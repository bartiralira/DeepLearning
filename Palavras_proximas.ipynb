{
 "cells": [
  {
   "cell_type": "code",
   "execution_count": 2,
   "source": [
    "import pandas as pd\r\n",
    "import numpy as np\r\n",
    "import difflib"
   ],
   "outputs": [],
   "metadata": {}
  },
  {
   "cell_type": "code",
   "execution_count": null,
   "source": [
    "data = pd.read_excel(r'C:\\Users\\barti\\OneDrive\\_Yara\\Ecommerce\\VolumeFaturadoYara2021.xlsx')\r\n",
    "data.head()"
   ],
   "outputs": [],
   "metadata": {}
  },
  {
   "cell_type": "code",
   "execution_count": null,
   "source": [
    "originais = [\"São Paulo\", \"S Bernardo\", \"São Bernardo\", \"sao bernardo\",\"sao paulo\", \"s paulo\"]"
   ],
   "outputs": [],
   "metadata": {}
  },
  {
   "cell_type": "code",
   "execution_count": 4,
   "source": [
    "words = [\"São B\", \"S Bernardo\", \"São Bernardo\", \"sao bernardo\",\"sao paulo\", \"s paulo\"]\r\n",
    "difflib.get_close_matches('São Bernardo', words)\r\n"
   ],
   "outputs": [
    {
     "output_type": "execute_result",
     "data": {
      "text/plain": [
       "['São Bernardo', 'S Bernardo', 'sao bernardo']"
      ]
     },
     "metadata": {},
     "execution_count": 4
    }
   ],
   "metadata": {}
  }
 ],
 "metadata": {
  "orig_nbformat": 4,
  "language_info": {
   "name": "python",
   "version": "3.9.0",
   "mimetype": "text/x-python",
   "codemirror_mode": {
    "name": "ipython",
    "version": 3
   },
   "pygments_lexer": "ipython3",
   "nbconvert_exporter": "python",
   "file_extension": ".py"
  },
  "kernelspec": {
   "name": "python3",
   "display_name": "Python 3.9.0 64-bit ('ecommerce': conda)"
  },
  "interpreter": {
   "hash": "03c778652092a32c60c73308acce321d6e65a3d3a44dfca28cf90c51ac0befd5"
  }
 },
 "nbformat": 4,
 "nbformat_minor": 2
}